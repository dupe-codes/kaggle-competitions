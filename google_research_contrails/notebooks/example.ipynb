{
 "cells": [
  {
   "attachments": {},
   "cell_type": "markdown",
   "metadata": {},
   "source": [
    "# This is my first notebook"
   ]
  },
  {
   "cell_type": "code",
   "execution_count": 1,
   "metadata": {},
   "outputs": [
    {
     "name": "stdout",
     "output_type": "stream",
     "text": [
      "[0, 1, 3, 6, 10, 15, 21, 28, 36, 45, 55]\n"
     ]
    }
   ],
   "source": [
    "def prefix_sums(c):\n",
    "    \"\"\"Compute the prefix sums of a sequence of numbers.\"\"\"\n",
    "    n = len(c)\n",
    "    p = [0] * (n + 1)\n",
    "    for k in range(1, n + 1):\n",
    "        p[k] = p[k - 1] + c[k - 1]\n",
    "    return p\n",
    "\n",
    "print(prefix_sums([1, 2, 3, 4, 5, 6, 7, 8, 9, 10]))"
   ]
  }
 ],
 "metadata": {
  "kernelspec": {
   "display_name": "Python 3",
   "language": "python",
   "name": "python3"
  },
  "language_info": {
   "codemirror_mode": {
    "name": "ipython",
    "version": 3
   },
   "file_extension": ".py",
   "mimetype": "text/x-python",
   "name": "python",
   "nbconvert_exporter": "python",
   "pygments_lexer": "ipython3",
   "version": "3.10.4"
  },
  "orig_nbformat": 4
 },
 "nbformat": 4,
 "nbformat_minor": 2
}
