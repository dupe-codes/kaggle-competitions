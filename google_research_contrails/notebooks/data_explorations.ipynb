{
 "cells": [
  {
   "cell_type": "code",
   "execution_count": 18,
   "id": "9a190bf3",
   "metadata": {},
   "outputs": [
    {
     "name": "stdout",
     "output_type": "stream",
     "text": [
      "A batch of training data already exists\n"
     ]
    }
   ],
   "source": [
    "import os\n",
    "import boto3\n",
    "import math\n",
    "\n",
    "from botocore.exceptions import NoCredentialsError\n",
    "\n",
    "S3_BUCKET = \"ml-competition-data\"\n",
    "COMPETITION_S3_PATH = \"google-research-contrails/\"\n",
    "TRAIN_DATA_S3_PATH = \"google-research-contrails/train/\"\n",
    "TRAIN_DATA_DISK_PATH = \"../data/train\"\n",
    "\n",
    "s3 = boto3.client(\"s3\")\n",
    "\n",
    "\n",
    "def load_train_data(bucket, s3_path, local_path, percent=1):\n",
    "    # TODO: Load the train_metadata.json file from root competition data s3 path\n",
    "    #       Change to use s3 paginator to look through all training data in s3 bucket\n",
    "    try:\n",
    "        all_subdirs = []\n",
    "        result = s3.list_objects(Bucket=bucket, Delimiter=\"/\", Prefix=s3_path)\n",
    "        for sub_dir in result.get(\"CommonPrefixes\"):\n",
    "            all_subdirs.append(sub_dir[\"Prefix\"])\n",
    "\n",
    "        num_to_load = math.ceil(len(all_subdirs) * percent / 100)\n",
    "        print(f\"Loading {num_to_load} training data points froms s3\")\n",
    "\n",
    "        for subdir in all_subdirs[:num_to_load]:\n",
    "            for obj in s3.list_objects(Bucket=bucket, Prefix=subdir)[\"Contents\"]:\n",
    "                # Strip s3_path from filenames\n",
    "                local_filename = os.path.join(local_path, obj[\"Key\"]).replace(\n",
    "                    s3_path, \"\"\n",
    "                )\n",
    "                print(local_filename)\n",
    "                if not os.path.exists(os.path.dirname(local_filename)):\n",
    "                    os.makedirs(os.path.dirname(local_filename))\n",
    "                s3.download_file(bucket, obj[\"Key\"], local_filename)\n",
    "\n",
    "    except NoCredentialsError:\n",
    "        print(\"No AWS credentials found\")\n",
    "\n",
    "\n",
    "if not os.listdir(TRAIN_DATA_DISK_PATH):\n",
    "    print(\"Loading batch of training data...\")\n",
    "    load_train_data(S3_BUCKET, TRAIN_DATA_S3_PATH, TRAIN_DATA_DISK_PATH)\n",
    "else:\n",
    "    print(\"A batch of training data already exists\")"
   ]
  }
 ],
 "metadata": {
  "kernelspec": {
   "display_name": "Python [conda env:deep-learning-env] *",
   "language": "python",
   "name": "conda-env-deep-learning-env-py"
  },
  "language_info": {
   "codemirror_mode": {
    "name": "ipython",
    "version": 3
   },
   "file_extension": ".py",
   "mimetype": "text/x-python",
   "name": "python",
   "nbconvert_exporter": "python",
   "pygments_lexer": "ipython3",
   "version": "3.10.10"
  },
  "toc": {
   "base_numbering": 1,
   "nav_menu": {},
   "number_sections": true,
   "sideBar": true,
   "skip_h1_title": false,
   "title_cell": "Table of Contents",
   "title_sidebar": "Contents",
   "toc_cell": false,
   "toc_position": {},
   "toc_section_display": true,
   "toc_window_display": false
  }
 },
 "nbformat": 4,
 "nbformat_minor": 5
}
